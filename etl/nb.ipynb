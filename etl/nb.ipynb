{
 "cells": [
  {
   "cell_type": "code",
   "execution_count": 27,
   "metadata": {},
   "outputs": [
    {
     "name": "stdout",
     "output_type": "stream",
     "text": [
      "Requirement already satisfied: pandas in /home/danny/.local/lib/python3.8/site-packages (2.0.0)\n",
      "Requirement already satisfied: psycopg2-binary in /home/danny/.local/lib/python3.8/site-packages (2.9.6)\n",
      "Requirement already satisfied: python-dotenv in /home/danny/.local/lib/python3.8/site-packages (0.21.1)\n",
      "Requirement already satisfied: python-dateutil>=2.8.2 in /home/danny/.local/lib/python3.8/site-packages (from pandas) (2.8.2)\n",
      "Requirement already satisfied: pytz>=2020.1 in /home/danny/.local/lib/python3.8/site-packages (from pandas) (2023.3)\n",
      "Requirement already satisfied: numpy>=1.20.3; python_version < \"3.10\" in /home/danny/.local/lib/python3.8/site-packages (from pandas) (1.24.2)\n",
      "Requirement already satisfied: tzdata>=2022.1 in /home/danny/.local/lib/python3.8/site-packages (from pandas) (2023.3)\n",
      "Requirement already satisfied: six>=1.5 in /usr/lib/python3/dist-packages (from python-dateutil>=2.8.2->pandas) (1.14.0)\n",
      "Note: you may need to restart the kernel to use updated packages.\n"
     ]
    }
   ],
   "source": [
    "%pip install pandas psycopg2-binary python-dotenv\n",
    "import pandas as pd\n",
    "import os\n",
    "from io import StringIO\n",
    "import psycopg2\n",
    "from psycopg2.extras import execute_values\n",
    "import time\n",
    "from dotenv import load_dotenv\n",
    "\n",
    "load_dotenv()\n",
    "db_password = os.environ.get('POSTGRES_PASSWORD')"
   ]
  },
  {
   "cell_type": "code",
   "execution_count": 21,
   "metadata": {},
   "outputs": [],
   "source": [
    "def create_conn():\n",
    "    return psycopg2.connect(\n",
    "        host=\"localhost\",\n",
    "        port=5432,\n",
    "        dbname=\"mydb\",\n",
    "        user=\"danny\",\n",
    "        password = db_password,\n",
    "    )"
   ]
  },
  {
   "cell_type": "code",
   "execution_count": 22,
   "metadata": {},
   "outputs": [],
   "source": [
    "csv_file = \"./db/data/product.csv\"\n",
    "df = pd.read_csv(csv_file)\n",
    "\n",
    "# Assuming you have a 'date_column' that contains Unix epoch dates\n",
    "# df[\"date_column\"] = pd.to_datetime(df[\"date_column\"], unit=\"s\")"
   ]
  },
  {
   "cell_type": "code",
   "execution_count": 28,
   "metadata": {},
   "outputs": [],
   "source": [
    "def create_table_from_csv(df, table_name):\n",
    "    conn = create_conn()\n",
    "    cur = conn.cursor()\n",
    "\n",
    "    # Drop the table if it exists\n",
    "    drop_table_sql = f\"DROP TABLE IF EXISTS {table_name};\"\n",
    "    cur.execute(drop_table_sql)\n",
    "\n",
    "    # Dynamically generate the CREATE TABLE statement based on headers and first row data\n",
    "    headers = df.columns.tolist()\n",
    "    first_row = df.iloc[0]\n",
    "    columns = []\n",
    "    for header, value in zip(headers, first_row):\n",
    "        data_type = \"VARCHAR\" if isinstance(value, str) else \"INTEGER\"\n",
    "        columns.append(f\"{header} {data_type}\")\n",
    "\n",
    "    create_table_sql = f\"CREATE TABLE {table_name} ({', '.join(columns)});\"\n",
    "    cur.execute(create_table_sql)\n",
    "\n",
    "    # Commit the changes\n",
    "    conn.commit()\n",
    "\n",
    "    # Insert data\n",
    "    insert_data(df, table_name, cur)\n",
    "    conn.commit()\n",
    "\n",
    "    cur.execute(f\"SELECT * FROM {table_name} LIMIT 5\")\n",
    "\n",
    "    # Fetch the results\n",
    "    results = cur.fetchall()\n",
    "\n",
    "    # Print the results\n",
    "    for row in results:\n",
    "        print(row)\n",
    "\n",
    "    # Close the connection\n",
    "    cur.close()\n",
    "    conn.close()\n",
    "\n",
    "def insert_data(df, table_name, cur):\n",
    "    # Prepare the data as a CSV string\n",
    "    csv_buffer = StringIO()\n",
    "    df.to_csv(csv_buffer, index=False, header=False)\n",
    "    csv_buffer.seek(0)\n",
    "\n",
    "    # Use the COPY command to import the data\n",
    "    columns = \", \".join(df.columns)\n",
    "    cur.copy_expert(f\"COPY {table_name} ({columns}) FROM STDIN WITH CSV\", csv_buffer)\n",
    "    "
   ]
  },
  {
   "cell_type": "code",
   "execution_count": 29,
   "metadata": {},
   "outputs": [
    {
     "name": "stdout",
     "output_type": "stream",
     "text": [
      "(1, 'Camo Onesie', 'Blend in to your crowd', 'The So Fatigues will wake you up and fit you in. This high energy camo will have you blending in to even the wildest surroundings.', 'Jackets', 140)\n",
      "(2, 'Bright Future Sunglasses', \"You've got to wear shades\", \"Where you're going you might not need roads, but you definitely need some shades. Give those baby blues a rest and let the future shine bright on these timeless lenses.\", 'Accessories', 69)\n",
      "(3, 'Morning Joggers', 'Make yourself a morning person', \"Whether you're a morning person or not.  Whether you're gym bound or not.  Everyone looks good in joggers.\", 'Pants', 40)\n",
      "(4, \"Slacker's Slacks\", 'Comfortable for everything, or nothing', \"I'll tell you how great they are after I nap for a bit.\", 'Pants', 65)\n",
      "(5, 'Heir Force Ones', 'A sneaker dynasty', \"Now where da boxes where I keep mine? You should peep mine, maybe once or twice but never three times. I'm just a sneaker pro, I love Pumas and shell toes, but can't nothin compare to a fresh crispy white pearl\", 'Kicks', 99)\n",
      "Data import took 6.06 seconds.\n"
     ]
    }
   ],
   "source": [
    "# Record the start time\n",
    "start_time = time.time()\n",
    "table_name = \"products\"\n",
    "create_table_from_csv(df, table_name)\n",
    "\n",
    "# Record the end time\n",
    "end_time = time.time()\n",
    "\n",
    "# Calculate the duration and print it\n",
    "duration = end_time - start_time\n",
    "print(f\"Data import took {duration:.2f} seconds.\")"
   ]
  }
 ],
 "metadata": {
  "kernelspec": {
   "display_name": "Python 3",
   "language": "python",
   "name": "python3"
  },
  "language_info": {
   "codemirror_mode": {
    "name": "ipython",
    "version": 3
   },
   "file_extension": ".py",
   "mimetype": "text/x-python",
   "name": "python",
   "nbconvert_exporter": "python",
   "pygments_lexer": "ipython3",
   "version": "3.8.10"
  }
 },
 "nbformat": 4,
 "nbformat_minor": 2
}
