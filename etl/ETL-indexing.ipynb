{
 "cells": [
  {
   "cell_type": "code",
   "execution_count": 1,
   "metadata": {},
   "outputs": [
    {
     "name": "stdout",
     "output_type": "stream",
     "text": [
      "Requirement already satisfied: pandas in /home/danny/.local/lib/python3.8/site-packages (2.0.0)\n",
      "Requirement already satisfied: psycopg2-binary in /home/danny/.local/lib/python3.8/site-packages (2.9.6)\n",
      "Requirement already satisfied: python-dotenv in /home/danny/.local/lib/python3.8/site-packages (0.21.1)\n",
      "Requirement already satisfied: tzdata>=2022.1 in /home/danny/.local/lib/python3.8/site-packages (from pandas) (2023.3)\n",
      "Requirement already satisfied: python-dateutil>=2.8.2 in /home/danny/.local/lib/python3.8/site-packages (from pandas) (2.8.2)\n",
      "Requirement already satisfied: pytz>=2020.1 in /home/danny/.local/lib/python3.8/site-packages (from pandas) (2023.3)\n",
      "Requirement already satisfied: numpy>=1.20.3; python_version < \"3.10\" in /home/danny/.local/lib/python3.8/site-packages (from pandas) (1.24.2)\n",
      "Requirement already satisfied: six>=1.5 in /usr/lib/python3/dist-packages (from python-dateutil>=2.8.2->pandas) (1.14.0)\n",
      "Note: you may need to restart the kernel to use updated packages.\n"
     ]
    }
   ],
   "source": [
    "%pip install pandas psycopg2-binary python-dotenv\n",
    "import pandas as pd\n",
    "import os\n",
    "from io import StringIO\n",
    "import psycopg2\n",
    "from psycopg2.extras import execute_values\n",
    "import time\n",
    "from dotenv import load_dotenv\n",
    "\n",
    "load_dotenv()\n",
    "db_password = os.environ.get('POSTGRES_PASSWORD')"
   ]
  },
  {
   "cell_type": "code",
   "execution_count": 2,
   "metadata": {},
   "outputs": [],
   "source": [
    "def create_conn():\n",
    "    return psycopg2.connect(\n",
    "        host=\"localhost\",\n",
    "        port=5432,\n",
    "        dbname=\"mydb\",\n",
    "        user=\"danny\",\n",
    "        password = db_password,\n",
    "    )"
   ]
  },
  {
   "cell_type": "code",
   "execution_count": 3,
   "metadata": {},
   "outputs": [],
   "source": [
    "product_file = \"./db/data/product.csv\"\n",
    "df_products = pd.read_csv(product_file)\n",
    "\n",
    "features_file = \"./db/data/features.csv\"\n",
    "df_features = pd.read_csv(features_file)\n",
    "\n",
    "skus_file = \"./db/data/skus.csv\"\n",
    "df_skus = pd.read_csv(skus_file)\n",
    "\n",
    "styles_file = \"./db/data/styles.csv\"\n",
    "df_styles = pd.read_csv(styles_file)\n",
    "\n",
    "related_file = \"./db/data/related.csv\"\n",
    "df_related = pd.read_csv(related_file)\n",
    "\n",
    "photos_file = \"./db/data/photos.csv\"\n",
    "columns_to_use = [0, 1, 2, 3] # Only use the first 4 columns\n",
    "df_photos = pd.read_csv(photos_file, usecols=columns_to_use)"
   ]
  },
  {
   "cell_type": "code",
   "execution_count": 5,
   "metadata": {},
   "outputs": [],
   "source": [
    "def extract_from_csv(df, table_name):\n",
    "    conn = create_conn()\n",
    "    cur = conn.cursor()\n",
    "\n",
    "    # drop_table_sql = f\"DROP TABLE IF EXISTS {table_name};\" # Drop the table if it exists\n",
    "    drop_table_sql = f\"DROP TABLE IF EXISTS {table_name} CASCADE;\" # Drop table and all its dependencies\n",
    "    cur.execute(drop_table_sql)\n",
    "\n",
    "    # Dynamically generate the CREATE TABLE statement based on headers and first row data\n",
    "    headers = df.columns.tolist()\n",
    "    first_row = df.iloc[0]\n",
    "    columns = []\n",
    "    primary_key = \"\"\n",
    "    foreign_key = \"\"\n",
    "    \n",
    "    # Replace \"productId\" and \"current_product_id\" with \"product_id\" for uniformity\n",
    "    headers = [\"product_id\" if header in [\"productId\", \"current_product_id\"] else header for header in headers]\n",
    "    headers = [\"style_id\" if header in [\"styleId\"] else header for header in headers]\n",
    "\n",
    "    for header, value in zip(headers, first_row):\n",
    "        data_type = \"VARCHAR\" if isinstance(value, str) else \"INTEGER\"\n",
    "        columns.append(f\"{header} {data_type}\")\n",
    "        \n",
    "        # Define primary & foreign keys\n",
    "        if header == \"id\":\n",
    "            primary_key = \"PRIMARY KEY (id)\"\n",
    "            \n",
    "        if header == \"product_id\":\n",
    "            foreign_key = f\"FOREIGN KEY (product_id) REFERENCES products (id)\"\n",
    "        elif header == \"style_id\":\n",
    "            foreign_key = f\"FOREIGN KEY (style_id) REFERENCES styles (id)\"\n",
    "        elif header == \"related_product_id\" and table_name == \"related_items\":\n",
    "            foreign_key = f\"FOREIGN KEY (related_product_id) REFERENCES products (id)\"\n",
    "    \n",
    "    create_table_sql = f\"CREATE TABLE {table_name} ({', '.join(columns)}\" + (f\", {primary_key}\" if primary_key else \"\") + (f\", {foreign_key}\" if foreign_key else \"\") + \");\"\n",
    "    cur.execute(create_table_sql)\n",
    "\n",
    "    # Create indexes for the keys\n",
    "    index_columns = [\"id\", \"style_id\", \"product_id\", \"related_product_id\"]\n",
    "    for col in index_columns:\n",
    "        if col in headers:\n",
    "            cur.execute(f\"CREATE INDEX {table_name}_{col}_idx ON {table_name} ({col});\")\n",
    "\n",
    "    conn.commit()\n",
    "    df.columns = headers #update headers\n",
    "    \n",
    "    if table_name == \"styles\":\n",
    "        df['sale_price'] = df['sale_price'].apply(lambda x: 0 if pd.isna(x) or x == 'null' else int(round(float(x), 2))).astype('Int64')\n",
    "\n",
    "\n",
    "    insert_data(df, table_name, cur)\n",
    "    conn.commit()\n",
    "\n",
    "    cur.execute(f\"SELECT * FROM {table_name} LIMIT 5\")\n",
    "\n",
    "    results = cur.fetchall()\n",
    "\n",
    "    for row in results:\n",
    "        print(row)\n",
    "\n",
    "    cur.close()\n",
    "    conn.close()\n",
    "\n",
    "\n",
    "def insert_data(df, table_name, cur):\n",
    "    # Filter out the rows with non-existent related_product_id's\n",
    "    if table_name == \"related_items\":\n",
    "        conn_subquery = create_conn()\n",
    "        df = df.loc[df[\"related_product_id\"].isin(pd.read_sql(\"SELECT id FROM products\", conn_subquery).id.tolist())]\n",
    "        conn_subquery.close()\n",
    "\n",
    "    # Prepare the data as a CSV string\n",
    "    csv_buffer = StringIO()\n",
    "    df.to_csv(csv_buffer, index=False, header=False)\n",
    "    csv_buffer.seek(0)\n",
    "\n",
    "    # import data\n",
    "    columns = \", \".join(df.columns)\n",
    "    cur.copy_expert(f\"COPY {table_name} ({columns}) FROM STDIN WITH CSV\", csv_buffer)\n",
    "    "
   ]
  },
  {
   "cell_type": "code",
   "execution_count": 6,
   "metadata": {},
   "outputs": [
    {
     "name": "stdout",
     "output_type": "stream",
     "text": [
      "(1, 'Camo Onesie', 'Blend in to your crowd', 'The So Fatigues will wake you up and fit you in. This high energy camo will have you blending in to even the wildest surroundings.', 'Jackets', 140)\n",
      "(2, 'Bright Future Sunglasses', \"You've got to wear shades\", \"Where you're going you might not need roads, but you definitely need some shades. Give those baby blues a rest and let the future shine bright on these timeless lenses.\", 'Accessories', 69)\n",
      "(3, 'Morning Joggers', 'Make yourself a morning person', \"Whether you're a morning person or not.  Whether you're gym bound or not.  Everyone looks good in joggers.\", 'Pants', 40)\n",
      "(4, \"Slacker's Slacks\", 'Comfortable for everything, or nothing', \"I'll tell you how great they are after I nap for a bit.\", 'Pants', 65)\n",
      "(5, 'Heir Force Ones', 'A sneaker dynasty', \"Now where da boxes where I keep mine? You should peep mine, maybe once or twice but never three times. I'm just a sneaker pro, I love Pumas and shell toes, but can't nothin compare to a fresh crispy white pearl\", 'Kicks', 99)\n"
     ]
    },
    {
     "name": "stderr",
     "output_type": "stream",
     "text": [
      "/tmp/ipykernel_742/396508379.py:69: UserWarning: pandas only supports SQLAlchemy connectable (engine/connection) or database string URI or sqlite3 DBAPI2 connection. Other DBAPI2 objects are not tested. Please consider using SQLAlchemy.\n",
      "  df = df.loc[df[\"related_product_id\"].isin(pd.read_sql(\"SELECT id FROM products\", conn_subquery).id.tolist())]\n"
     ]
    },
    {
     "name": "stdout",
     "output_type": "stream",
     "text": [
      "(1, 1, 2)\n",
      "(2, 1, 3)\n",
      "(3, 1, 8)\n",
      "(4, 1, 7)\n",
      "(5, 2, 3)\n",
      "(1, 1, 'Forest Green & Black', 0, 140, 1)\n",
      "(2, 1, 'Desert Brown & Tan', 0, 140, 0)\n",
      "(3, 1, 'Ocean Blue & Grey', 100, 140, 0)\n",
      "(4, 1, 'Digital Red & Black', 0, 140, 0)\n",
      "(5, 1, 'Sky Blue & White', 100, 140, 0)\n",
      "(1, 1, 'Fabric', 'Canvas')\n",
      "(2, 1, 'Buttons', 'Brass')\n",
      "(3, 2, 'Lenses', 'Ultrasheen')\n",
      "(4, 2, 'UV Protection', None)\n",
      "(5, 2, 'Frames', 'LightCompose')\n",
      "(1, 1, 'https://images.unsplash.com/photo-1501088430049-71c79fa3283e?ixlib=rb-1.2.1&ixid=eyJhcHBfaWQiOjEyMDd9&auto=format&fit=crop&w=668&q=80', 'https://images.unsplash.com/photo-1501088430049-71c79fa3283e?ixlib=rb-1.2.1&ixid=eyJhcHBfaWQiOjEyMDd9&auto=format&fit=crop&w=300&q=80')\n",
      "(2, 1, 'https://images.unsplash.com/photo-1534011546717-407bced4d25c?ixlib=rb-1.2.1&ixid=eyJhcHBfaWQiOjEyMDd9&auto=format&fit=crop&w=2734&q=80', 'https://images.unsplash.com/photo-1534011546717-407bced4d25c?ixlib=rb-1.2.1&ixid=eyJhcHBfaWQiOjEyMDd9&auto=format&fit=crop&w=300&q=80')\n",
      "(3, 1, 'https://images.unsplash.com/photo-1549831243-a69a0b3d39e0?ixlib=rb-1.2.1&ixid=eyJhcHBfaWQiOjEyMDd9&auto=format&fit=crop&w=2775&q=80', 'https://images.unsplash.com/photo-1549831243-a69a0b3d39e0?ixlib=rb-1.2.1&ixid=eyJhcHBfaWQiOjEyMDd9&auto=format&fit=crop&w=300&q=80')\n",
      "(4, 1, 'https://images.unsplash.com/photo-1527522883525-97119bfce82d?ixlib=rb-1.2.1&auto=format&fit=crop&w=668&q=80', 'https://images.unsplash.com/photo-1527522883525-97119bfce82d?ixlib=rb-1.2.1&auto=format&fit=crop&w=300&q=80')\n",
      "(5, 1, 'https://images.unsplash.com/photo-1556648202-80e751c133da?ixlib=rb-1.2.1&ixid=eyJhcHBfaWQiOjEyMDd9&auto=format&fit=crop&w=668&q=80', 'https://images.unsplash.com/photo-1556648202-80e751c133da?ixlib=rb-1.2.1&ixid=eyJhcHBfaWQiOjEyMDd9&auto=format&fit=crop&w=300&q=80')\n",
      "(1, 1, 'XS', 8)\n",
      "(2, 1, 'S', 16)\n",
      "(3, 1, 'M', 17)\n",
      "(4, 1, 'L', 10)\n",
      "(5, 1, 'XL', 15)\n",
      "Data import took 241.47 seconds.\n"
     ]
    }
   ],
   "source": [
    "# Record the start and end time, then calculate duration\n",
    "start_time = time.time()\n",
    "extract_from_csv(df_products, \"products\")\n",
    "extract_from_csv(df_related, \"related_items\")\n",
    "extract_from_csv(df_styles, \"styles\")\n",
    "extract_from_csv(df_features, \"features\")\n",
    "extract_from_csv(df_photos, \"photos\")\n",
    "extract_from_csv(df_skus, \"skus\")\n",
    "\n",
    "end_time = time.time()\n",
    "\n",
    "duration = end_time - start_time\n",
    "print(f\"Data import took {duration:.2f} seconds.\")"
   ]
  }
 ],
 "metadata": {
  "kernelspec": {
   "display_name": "Python 3",
   "language": "python",
   "name": "python3"
  },
  "language_info": {
   "codemirror_mode": {
    "name": "ipython",
    "version": 3
   },
   "file_extension": ".py",
   "mimetype": "text/x-python",
   "name": "python",
   "nbconvert_exporter": "python",
   "pygments_lexer": "ipython3",
   "version": "3.8.10"
  }
 },
 "nbformat": 4,
 "nbformat_minor": 2
}
